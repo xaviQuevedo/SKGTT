{
 "cells": [
  {
   "cell_type": "code",
   "execution_count": null,
   "id": "neither-description",
   "metadata": {},
   "outputs": [],
   "source": [
    "import pymysql\n",
    "import pandas as pd\n",
    "from DBdata2 import *\n",
    "import requests"
   ]
  },
  {
   "cell_type": "code",
   "execution_count": null,
   "id": "marine-personal",
   "metadata": {},
   "outputs": [],
   "source": [
    "token = 'd946e212-242e-4094-8c30-d990cec12983-843339462' # colocar aquí el token\n",
    "url_endpoint = 'https://tagme.d4science.org/tagme/tag?lang=en&include_abstract=true&include_categories=true&gcube-token='\n",
    "headers = {'user-agent': 'Mozilla/5.0', 'accept': 'application/json', 'content-type': 'application/json'}\n",
    "dbr = 'http://dbpedia.org/resource/'\n",
    "dbc = 'http://dbpedia.org/resource/Category:'\n",
    "\n",
    "global data\n",
    "data = Datos2()"
   ]
  },
  {
   "cell_type": "code",
   "execution_count": null,
   "id": "extended-stability",
   "metadata": {},
   "outputs": [],
   "source": [
    "def getAnnotations(paper_id, text):\n",
    "    url = url_endpoint + token + '&text=' + text\n",
    "\n",
    "    resp = requests.get(url, headers=headers).json()\n",
    "    resp.keys()\n",
    "    annotations = resp['annotations']\n",
    "\n",
    "    dbCategories = []\n",
    "    dbResources = []\n",
    "    try:\n",
    "        for i in range(len(annotations)):\n",
    "            ann = annotations[i]['spot']\n",
    "            if annotations[i]['rho'] > 0.1 and annotations[i]['link_probability'] > 0.1:\n",
    "                if ann.islower(): ann = ann.capitalize() \n",
    "                uridb = dbr + ann.replace(' ', '_')\n",
    "                dbResources.append([paper_id, uridb, annotations[i]['rho'],\n",
    "                                     annotations[i]['link_probability'], ann])\n",
    "                # Guardar como recursos de la Dbpedia:\n",
    "                if 'dbpedia_categories' in annotations[i]:\n",
    "                \n",
    "                    if len(annotations[i]['dbpedia_categories']):\n",
    "                        for c in annotations[i]['dbpedia_categories']:\n",
    "                            if c.islower(): c = c.capitalize() \n",
    "                            dbCategories.append([paper_id, dbc + c.replace(' ', '_'), annotations[i]['rho'],\n",
    "                                             annotations[i]['link_probability'], c])\n",
    "    except KeyError:\n",
    "        print(annotations[i])\n",
    "        print(annotations[i]['dbpedia_categories'], \"Error\")        \n",
    "    if len(dbResources):\n",
    "        dbResources = pd.DataFrame(dbResources, columns=['paperID', 'uri', 'rho', 'link_probability', 'label'])\n",
    "    if len(dbCategories):\n",
    "        dbCategories = pd.DataFrame(dbCategories, columns=['paperID', 'uri', 'rho', 'link_probability', 'label'])\n",
    "\n",
    "    return dbResources, dbCategories"
   ]
  },
  {
   "cell_type": "code",
   "execution_count": null,
   "id": "renewable-basics",
   "metadata": {},
   "outputs": [],
   "source": [
    "db = pymysql.connect(host='localhost', user='root', password='', db='data')\n",
    "cur=db.cursor()\n",
    "cur.execute(u\"\"\"SELECT DISTINCT sujeto, group_concat(IF(predicado = 'https://w3id.org/scholarlydata/ontology/conference-ontology.owl#title', objeto, '')) \n",
    "titulo, group_concat(IF(predicado = 'https://w3id.org/scholarlydata/ontology/conference-ontology.owl#abstract', objeto, '')) \n",
    "resumen FROM tripletas WHERE predicado = 'https://w3id.org/scholarlydata/ontology/conference-ontology.owl#abstract' \n",
    "OR  predicado = 'https://w3id.org/scholarlydata/ontology/conference-ontology.owl#title' GROUP BY sujeto;\"\"\")"
   ]
  },
  {
   "cell_type": "code",
   "execution_count": null,
   "id": "therapeutic-typing",
   "metadata": {},
   "outputs": [],
   "source": [
    "filas = cur.fetchall()\n",
    "for fila in filas:\n",
    "    paper = fila[0]\n",
    "    titulo = fila[1].strip(',')\n",
    "    resumen = fila[2].strip(',')\n",
    "\n",
    "    listAbs = resumen.split('.')\n",
    "    listTitu= titulo\n",
    "    for frase in listAbs:\n",
    "        paper_id = paper\n",
    "        text = frase\n",
    "        if text.strip():\n",
    "            dbResources, dbCategories = getAnnotations(paper_id, text)\n",
    "            if len(dbResources)>0 and len(dbCategories)>0:   \n",
    "                dbResourcesSelected = dbResources[dbResources['link_probability']>0.3]\n",
    "                dbCategoriesSelected = dbCategories[dbCategories['link_probability']>0.3]"
   ]
  },
  {
   "cell_type": "code",
   "execution_count": null,
   "id": "local-field",
   "metadata": {},
   "outputs": [],
   "source": [
    "tripletsR = []\n",
    "for i, r in dbResourcesSelected.iterrows():\n",
    "    tripletsR.append([r['paperID'], '<http://schema.org/mentions>', '<'+r['uri']+'>'])\n",
    "    tripletsR.append([r['uri'], '<http://www.w3.org/2000/01/rdf-schema#label>', ' \"'+ r['label']+'\"'])\n",
    "fileN = open(\"dbpediaR.nt\",\"a\")\n",
    "\n",
    "for t in tripletsR:\n",
    "    fileN.writelines('<'+ t[0]+'> '+t[1]+t[2]+' .\\n')\n",
    "fileN.close()"
   ]
  },
  {
   "cell_type": "code",
   "execution_count": null,
   "id": "inappropriate-antigua",
   "metadata": {},
   "outputs": [],
   "source": [
    "tripletsC = []\n",
    "for i, r in dbCategoriesSelected.iterrows():\n",
    "    tripletsC.append([r['paperID'], '<http://schema.org/mentions>', ' <'+r['uri']+'>'])\n",
    "    tripletsC.append([r['uri'], '<http://www.w3.org/2000/01/rdf-schema#label>', ' \"'+r['label']+'\"'])\n",
    "\n",
    "fileN = open(\"dbpediaC.nt\",\"a\")\n",
    "\n",
    "for t in tripletsC:\n",
    "    fileN.writelines('<' + t[0]+'> ' + t[1] + t[2] + '.\\n')\n",
    "fileN.close()"
   ]
  }
 ],
 "metadata": {
  "kernelspec": {
   "display_name": "Python 3",
   "language": "python",
   "name": "python3"
  },
  "language_info": {
   "codemirror_mode": {
    "name": "ipython",
    "version": 3
   },
   "file_extension": ".py",
   "mimetype": "text/x-python",
   "name": "python",
   "nbconvert_exporter": "python",
   "pygments_lexer": "ipython3",
   "version": "3.9.1"
  }
 },
 "nbformat": 4,
 "nbformat_minor": 5
}
